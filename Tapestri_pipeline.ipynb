{
 "cells": [
  {
   "cell_type": "markdown",
   "id": "3a146ae0-a490-4f31-91c2-bc9b07904515",
   "metadata": {},
   "source": [
    "## Import the data"
   ]
  },
  {
   "cell_type": "code",
   "execution_count": null,
   "id": "7358b84a-18c5-4ddf-bb74-fadee62065ce",
   "metadata": {},
   "outputs": [],
   "source": [
    "# Import mosaic libraries\n",
    "import missionbio.mosaic as ms\n",
    "\n",
    "# Import these to display entire dataframes\n",
    "from IPython.display import display, HTML\n",
    "\n",
    "# Import graph_objects from the plotly package to display figures when saving the notebook as an HTML\n",
    "import plotly as px\n",
    "import plotly.graph_objects as go\n",
    "\n",
    "# Import additional packages for specific visuals\n",
    "import matplotlib.pyplot as plt\n",
    "import plotly.offline as pyo\n",
    "pyo.init_notebook_mode()\n",
    "import numpy as np\n",
    "import seaborn as sns\n",
    "from missionbio.plotting.multimap import MultiMap\n",
    "from missionbio.plotting.heatmap import Heatmap\n",
    "\n",
    "# Import COMPASS for imputation\n",
    "from missionbio.mosaic.algorithms.compass import COMPASS\n",
    "import pandas as pd"
   ]
  },
  {
   "cell_type": "code",
   "execution_count": 4,
   "id": "19535e2c-1b59-4981-b1ba-f711e11cb8ca",
   "metadata": {},
   "outputs": [
    {
     "data": {
      "text/html": [
       "<style>.container { width:100% !important; }</style>"
      ],
      "text/plain": [
       "<IPython.core.display.HTML object>"
      ]
     },
     "metadata": {},
     "output_type": "display_data"
    }
   ],
   "source": [
    "# This code is optional, but will make the notebook cells/figures display across the entire width of the browser\n",
    "from IPython.display import display, HTML\n",
    "display(HTML(\"<style>.container { width:100% !important; }</style>\"))"
   ]
  },
  {
   "cell_type": "markdown",
   "id": "1b330d7f-2725-435f-95f4-461f7a3b8f71",
   "metadata": {},
   "source": [
    "Read the results of WGS experiment from the excel file."
   ]
  },
  {
   "cell_type": "code",
   "execution_count": 5,
   "id": "26c97b18-8680-4d59-9a67-7078a0955073",
   "metadata": {},
   "outputs": [],
   "source": [
    "file_xlxs = \"/orfeo/LTS/CDSLab/LT_storage/CLL/scDNA/h5_file/Tapestry CLL Targeted Panel.xlsx\"\n",
    "dfs = pd.read_excel(file_xlxs, sheet_name=None)"
   ]
  },
  {
   "cell_type": "code",
   "execution_count": 6,
   "id": "320346ec-8d0f-43ec-8044-3edfa6c9ce68",
   "metadata": {},
   "outputs": [],
   "source": [
    "wgs_muts = dfs[\"X_Tapestry\"]"
   ]
  },
  {
   "cell_type": "markdown",
   "id": "efcd918c-3c8f-485d-9281-26300643200c",
   "metadata": {},
   "source": [
    "Select only the mutations specific for the sample of interest. Take only the mutations which underwent Tapsetri analysis and have a CCF value."
   ]
  },
  {
   "cell_type": "code",
   "execution_count": null,
   "id": "34860e0a-f4f1-43c6-9b6f-85573b056a3b",
   "metadata": {},
   "outputs": [],
   "source": [
    "patient_id = \"CT339\"\n",
    "sample_id = \"T2_pos\"\n",
    "cff_name = \"CCF_\"+sample_id\n",
    "CT339_muts = wgs_muts[(wgs_muts[\"Case\"]==patient_id) & (wgs_muts[\"TAPESTRI\"]==\"YES\") & (wgs_muts[cff_name]!=0)]\n",
    "CT339_muts[\"Tapestri_id\"] =CT339_muts[['Chr','Start','Ref','Var']].apply(lambda x : '{}:{}:{}/{}'.format(x[0],x[1],x[2],x[3]), axis=1)\n",
    "whitelist = list(CT339_muts[['Chr','Start','Ref','Var']].apply(lambda x : '{}:{}:{}/{}'.format(x[0],x[1],x[2],x[3]), axis=1))"
   ]
  },
  {
   "cell_type": "markdown",
   "id": "94383323-d689-432f-9bdb-c3842ec3e57c",
   "metadata": {},
   "source": [
    "Load the data from the h5 file. IN this case I decided to extract only the variants that are present in the previoulsy generated whitelist and to not apply the fitlering procedure."
   ]
  },
  {
   "cell_type": "code",
   "execution_count": 8,
   "id": "f1f2cbf2-d5ae-4a63-84ba-8bd244448a2d",
   "metadata": {},
   "outputs": [
    {
     "data": {
      "application/vnd.jupyter.widget-view+json": {
       "model_id": "",
       "version_major": 2,
       "version_minor": 0
      },
      "text/plain": [
       "            0%: "
      ]
     },
     "metadata": {},
     "output_type": "display_data"
    },
    {
     "name": "stderr",
     "output_type": "stream",
     "text": [
      "/u/cdslab/ggandolfi/mosaic/lib/python3.9/site-packages/missionbio/h5/data/reader.py:593: UserWarning:\n",
      "\n",
      "The following were not found: {'chr2:132794309:C/T', 'chr14:77883003:C/T', 'chr10:23361627:C/T', 'chr8:37454107:A/C', 'chr1:148002257:C/T', 'chr1:59096386:C/G', 'chr4:65299766:A/C', 'chr7:142475932:C/G'}\n",
      "\n"
     ]
    }
   ],
   "source": [
    "h5path = \"/orfeo/LTS/CDSLab/LT_storage/CLL/scDNA/h5_file/CT339_T2_POS_Test_11.dna.h5\"\n",
    "# Load the data\n",
    "sample = ms.load(h5path, raw=False, filter_variants=False, single=True, whitelist = whitelist, filter_cells=False) "
   ]
  },
  {
   "cell_type": "markdown",
   "id": "11612fec-ba73-4f4b-ba6e-523a185a2352",
   "metadata": {},
   "source": [
    "### Inspect the data structure"
   ]
  },
  {
   "cell_type": "code",
   "execution_count": 21,
   "id": "240ef2b3-66d9-4eb3-b312-a9887e2ae9aa",
   "metadata": {},
   "outputs": [
    {
     "name": "stdout",
     "output_type": "stream",
     "text": [
      "'sample.dna': dna_variants assay with 9 layers, 4705 rows and 38 columns \n",
      "\n",
      "'row_attrs': \n",
      "\t ['barcode', 'filtered', 'sample_name', 'label'] \n",
      "\n",
      "'col_attrs': \n",
      "\t ['ALT', 'CHROM', 'POS', 'QUAL', 'REF', 'ado_gt_cells', 'ado_rate', 'amplicon', 'filtered', 'id'] \n",
      "\n",
      "'layers': \n",
      "\t ['AF', 'DP', 'FILTER_MASK', 'GQ', 'NGT', 'RGQ', 'AF_MISSING', 'NGT_FILTERED', 'AF_FILTERED'] \n",
      "\n",
      "'metadata': \n",
      "\n"
     ]
    }
   ],
   "source": [
    "# Summary of DNA assay \n",
    "print(\"\\'sample.dna\\':\", sample.dna, '\\n')\n",
    "print(\"\\'row_attrs\\':\", \"\\n\\t\", list(sample.dna.row_attrs.keys()), '\\n')\n",
    "print(\"\\'col_attrs\\':\", \"\\n\\t\", list(sample.dna.col_attrs.keys()), '\\n')\n",
    "print(\"\\'layers\\':\", \"\\n\\t\", list(sample.dna.layers.keys()), '\\n')\n",
    "print(\"\\'metadata\\':\", \"\\n\")\n",
    "#for i in list(sample.dna.metadata.keys()):\n",
    "#    print(\"\\t\", i, \": \", sample.cnv.metadata[i], sep=\"\")"
   ]
  },
  {
   "cell_type": "code",
   "execution_count": 22,
   "id": "d3b8de34-6c95-43e3-929e-ccd51d63ef7e",
   "metadata": {},
   "outputs": [
    {
     "name": "stdout",
     "output_type": "stream",
     "text": [
      "'sample.cnv': dna_read_counts assay with 1 layer, 4705 rows and 489 columns \n",
      "\n",
      "'row_attrs': \n",
      "\t ['barcode', 'sample_name', 'label'] \n",
      "\n",
      "'col_attrs': \n",
      "\t ['CHROM', 'end_pos', 'id', 'r1_counts', 'r2_counts', 'start_pos'] \n",
      "\n",
      "'layers': \n",
      "\t ['read_counts'] \n",
      "\n",
      "'metadata': \n",
      "\n",
      "\tsample_name: [['Test_11']]\n",
      "\tado_rate: 0.134\n",
      "\tavg_mapping_error_rate: 0.006985091\n",
      "\tavg_panel_uniformity: 0.8466257668711656\n",
      "\tchemistry_version: V2\n",
      "\tgenome_version: hg19\n",
      "\tn_amplicons: 489\n",
      "\tn_bases_r1: 108421897969\n",
      "\tn_bases_r1_q30: 99960596626\n",
      "\tn_bases_r2: 108452686498\n",
      "\tn_bases_r2_q30: 98507214574\n",
      "\tn_cell_barcode_bases: 36401460383\n",
      "\tn_cell_barcode_bases_q30: 35637056782\n",
      "\tn_cells: 4705\n",
      "\tn_read_pairs: 723945695\n",
      "\tn_read_pairs_mapped_to_cells: 449219436\n",
      "\tn_read_pairs_trimmed: 718587018\n",
      "\tn_read_pairs_valid_cell_barcodes: 699883460\n",
      "\tn_reads_mapped: 1342502928\n",
      "\tn_reads_mapped_insert: 1259460099\n",
      "\tpanel_name: Tapestri-Designer-results-6351\n",
      "\tpipeline_version: 2.0.2\n"
     ]
    }
   ],
   "source": [
    "# Summary of CNV assay\n",
    "print(\"\\'sample.cnv\\':\", sample.cnv, '\\n')\n",
    "print(\"\\'row_attrs\\':\", \"\\n\\t\", list(sample.cnv.row_attrs.keys()), '\\n')\n",
    "print(\"\\'col_attrs\\':\", \"\\n\\t\", list(sample.cnv.col_attrs.keys()), '\\n')\n",
    "print(\"\\'layers\\':\", \"\\n\\t\", list(sample.cnv.layers.keys()), '\\n')\n",
    "print(\"\\'metadata\\':\", \"\\n\")\n",
    "for i in list(sample.cnv.metadata.keys()):\n",
    "    print(\"\\t\", i, \": \", sample.cnv.metadata[i], sep=\"\")"
   ]
  },
  {
   "cell_type": "markdown",
   "id": "ef9f5d96-dae3-48fd-8680-0b750065d1f3",
   "metadata": {},
   "source": [
    "Apply the filters to the input whitelisted variants."
   ]
  },
  {
   "cell_type": "code",
   "execution_count": 24,
   "id": "ff078a61-aa47-4bd4-86a8-53020469e65c",
   "metadata": {},
   "outputs": [
    {
     "name": "stdout",
     "output_type": "stream",
     "text": [
      "Number of variants: 28\n"
     ]
    }
   ],
   "source": [
    "# Adjust filters if needed by overwriting dna_vars\n",
    "dna_vars = sample.dna.filter_variants(\n",
    "    min_dp=10,\n",
    "    min_gq=30,\n",
    "    vaf_ref=5,\n",
    "    vaf_hom=95,\n",
    "    vaf_het=30,\n",
    "    min_prct_cells=50,\n",
    "    min_mut_prct_cells=1,\n",
    "    iterations=10,\n",
    ")\n",
    "\n",
    "# Check the number of filtered variants. When using the default filters, the number of \n",
    "# variants is likely smaller compared to the originally loaded variants due to the more \n",
    "# stringent filtering criteria (e.g., vaf_ref=5, vaf_hom=95, vaf_het=30).\n",
    "print('Number of variants:', len(dna_vars))\n",
    "#print(dna_vars)"
   ]
  },
  {
   "cell_type": "code",
   "execution_count": 25,
   "id": "7fc75c22-c46b-41b3-b45f-f1988a065c90",
   "metadata": {},
   "outputs": [
    {
     "data": {
      "text/plain": [
       "(4705, 38)"
      ]
     },
     "execution_count": 25,
     "metadata": {},
     "output_type": "execute_result"
    }
   ],
   "source": [
    "final_vars = list(set(list(dna_vars) + whitelist))\n",
    "sample.dna = sample.dna[:, final_vars]\n",
    "sample.dna.shape"
   ]
  },
  {
   "cell_type": "markdown",
   "id": "42d08f68-8755-46df-b030-6be93167931b",
   "metadata": {},
   "source": [
    "Effectively apply the fitlering:"
   ]
  },
  {
   "cell_type": "markdown",
   "id": "3b347f42-801d-46e4-8541-b07394206b83",
   "metadata": {},
   "source": [
    "Create a dataframe with the variants information. This dataframe contains information about:\n",
    "- `ALT`: The alternate allele for each variant;\n",
    "- `CHROM`\n",
    "- `POS`\n",
    "- `QUAL`\n",
    "- `REF`\n",
    "- `ado_gt_cells`\n",
    "- `ado_rate`\n",
    "- `amplicon`\n",
    "- `filtered`\n",
    "- `id`"
   ]
  },
  {
   "cell_type": "code",
   "execution_count": 19,
   "id": "50f8d4d0-52eb-44c4-b3dd-cf6bf4c7a0fe",
   "metadata": {},
   "outputs": [],
   "source": [
    "filtered_variants = list(sample.dna.filter_variants())\n",
    "#ann = sample.dna.get_annotations()\n",
    "#whitelist"
   ]
  },
  {
   "cell_type": "code",
   "execution_count": 26,
   "id": "4071ad55-f7e6-4575-adc7-5bd6d99e7795",
   "metadata": {},
   "outputs": [],
   "source": [
    "col_attributes = pd.DataFrame(sample.dna.col_attrs)\n",
    "#pd.DataFrame(sample.dna.row_attrs)\n",
    "#sample.dna.col_attrs.keys()"
   ]
  },
  {
   "cell_type": "markdown",
   "id": "e25d4700-f84c-4a38-bd79-2a3128b491eb",
   "metadata": {},
   "source": [
    "## Compare WGS bulk and Tapestri results"
   ]
  },
  {
   "cell_type": "code",
   "execution_count": 28,
   "id": "548adcab-1b9e-4a0e-ad8f-e79380fc382e",
   "metadata": {},
   "outputs": [],
   "source": [
    "wgs_vs_tapestri = pd.DataFrame(whitelist, columns=['id'])\n",
    "wgs_vs_tapestri[\"CCF_Tapestri\"] = 0\n",
    "wgs_vs_tapestri[\"CCF_WGS\"] = 0\n",
    "wgs_vs_tapestri[\"VAF_WGS\"] = 0"
   ]
  },
  {
   "cell_type": "code",
   "execution_count": 31,
   "id": "77a48656-2edd-4df9-9164-a31ba4e15d67",
   "metadata": {},
   "outputs": [],
   "source": [
    "af = pd.DataFrame(sample.dna.layers[\"AF\"])\n",
    "af.columns = sample.dna.col_attrs[\"id\"]\n",
    "af.index = sample.dna.row_attrs[\"barcode\"]\n",
    "\n",
    "for v in whitelist:\n",
    "    if (v in sample.dna.col_attrs[\"id\"]):\n",
    "        m = af[v]/ 100\n",
    "        i=wgs_vs_tapestri.index[wgs_vs_tapestri['id'] == v]\n",
    "        ccf =(m != 0).sum()/len(sample.dna.row_attrs[\"barcode\"])\n",
    "        wgs_vs_tapestri.loc[i, 'CCF_Tapestri'] =ccf\n",
    "        ccf_wgs = CT339_muts[(CT339_muts[\"Tapestri_id\"]==v)]\n",
    "        wgs_vs_tapestri.loc[i, 'CCF_WGS'] =ccf_wgs[\"CCF_T2_pos\"].iat[0]\n",
    "        wgs_vs_tapestri.loc[i, 'VAF_WGS'] =ccf_wgs[\"VAF_T2_pos\"].iat[0]\n",
    "        #print(str(v)+\" \" +str(ccf)+\" \"+str(ccf_wgs[\"CCF_T2_pos\"])+\" \"+str(ccf_wgs[\"VAF_T2_pos\"]))\n",
    "#m = af[\"chr14:47812259:G/A\"]/ 100\n",
    "\n",
    "#m[(m > 0.1)].hist(color='skyblue', edgecolor='black')\n",
    "#(m != 0).sum()/len(sample.dna.row_attrs[\"barcode\"])"
   ]
  },
  {
   "cell_type": "code",
   "execution_count": 32,
   "id": "a7ae371c-78e9-4509-9a41-fadd7f551caa",
   "metadata": {},
   "outputs": [
    {
     "data": {
      "text/html": [
       "<div>\n",
       "<style scoped>\n",
       "    .dataframe tbody tr th:only-of-type {\n",
       "        vertical-align: middle;\n",
       "    }\n",
       "\n",
       "    .dataframe tbody tr th {\n",
       "        vertical-align: top;\n",
       "    }\n",
       "\n",
       "    .dataframe thead th {\n",
       "        text-align: right;\n",
       "    }\n",
       "</style>\n",
       "<table border=\"1\" class=\"dataframe\">\n",
       "  <thead>\n",
       "    <tr style=\"text-align: right;\">\n",
       "      <th></th>\n",
       "      <th>id</th>\n",
       "      <th>CCF_Tapestri</th>\n",
       "      <th>CCF_WGS</th>\n",
       "      <th>VAF_WGS</th>\n",
       "    </tr>\n",
       "  </thead>\n",
       "  <tbody>\n",
       "    <tr>\n",
       "      <th>0</th>\n",
       "      <td>chr1:149035493:G/T</td>\n",
       "      <td>0.186610</td>\n",
       "      <td>0.119764</td>\n",
       "      <td>0.061856</td>\n",
       "    </tr>\n",
       "    <tr>\n",
       "      <th>1</th>\n",
       "      <td>chr6:353034:A/T</td>\n",
       "      <td>0.758767</td>\n",
       "      <td>0.119764</td>\n",
       "      <td>0.084444</td>\n",
       "    </tr>\n",
       "    <tr>\n",
       "      <th>2</th>\n",
       "      <td>chr4:65299766:A/C</td>\n",
       "      <td>0.000000</td>\n",
       "      <td>0.000000</td>\n",
       "      <td>0.000000</td>\n",
       "    </tr>\n",
       "    <tr>\n",
       "      <th>3</th>\n",
       "      <td>chr7:142475930:A/G</td>\n",
       "      <td>0.195962</td>\n",
       "      <td>0.119764</td>\n",
       "      <td>0.047120</td>\n",
       "    </tr>\n",
       "    <tr>\n",
       "      <th>4</th>\n",
       "      <td>chr7:142475932:C/G</td>\n",
       "      <td>0.000000</td>\n",
       "      <td>0.000000</td>\n",
       "      <td>0.000000</td>\n",
       "    </tr>\n",
       "    <tr>\n",
       "      <th>5</th>\n",
       "      <td>chr9:141069114:G/A</td>\n",
       "      <td>0.041233</td>\n",
       "      <td>0.119764</td>\n",
       "      <td>0.061905</td>\n",
       "    </tr>\n",
       "    <tr>\n",
       "      <th>6</th>\n",
       "      <td>chr10:696064:G/A</td>\n",
       "      <td>0.209777</td>\n",
       "      <td>0.119764</td>\n",
       "      <td>0.045113</td>\n",
       "    </tr>\n",
       "    <tr>\n",
       "      <th>7</th>\n",
       "      <td>chr1:148002257:C/T</td>\n",
       "      <td>0.000000</td>\n",
       "      <td>0.000000</td>\n",
       "      <td>0.000000</td>\n",
       "    </tr>\n",
       "    <tr>\n",
       "      <th>8</th>\n",
       "      <td>chr1:59096386:C/G</td>\n",
       "      <td>0.000000</td>\n",
       "      <td>0.000000</td>\n",
       "      <td>0.000000</td>\n",
       "    </tr>\n",
       "    <tr>\n",
       "      <th>9</th>\n",
       "      <td>chr11:1017381:G/C</td>\n",
       "      <td>0.882040</td>\n",
       "      <td>0.119764</td>\n",
       "      <td>0.106762</td>\n",
       "    </tr>\n",
       "    <tr>\n",
       "      <th>10</th>\n",
       "      <td>chr2:132794309:C/T</td>\n",
       "      <td>0.000000</td>\n",
       "      <td>0.000000</td>\n",
       "      <td>0.000000</td>\n",
       "    </tr>\n",
       "    <tr>\n",
       "      <th>11</th>\n",
       "      <td>chr9:33613226:A/T</td>\n",
       "      <td>0.365994</td>\n",
       "      <td>0.119764</td>\n",
       "      <td>0.073171</td>\n",
       "    </tr>\n",
       "    <tr>\n",
       "      <th>12</th>\n",
       "      <td>chr4:33015791:G/A</td>\n",
       "      <td>0.325824</td>\n",
       "      <td>0.119764</td>\n",
       "      <td>0.098361</td>\n",
       "    </tr>\n",
       "    <tr>\n",
       "      <th>13</th>\n",
       "      <td>chr4:23125020:G/C</td>\n",
       "      <td>0.393411</td>\n",
       "      <td>0.000054</td>\n",
       "      <td>0.000000</td>\n",
       "    </tr>\n",
       "    <tr>\n",
       "      <th>14</th>\n",
       "      <td>chr4:8009164:G/A</td>\n",
       "      <td>0.141339</td>\n",
       "      <td>0.000054</td>\n",
       "      <td>0.000000</td>\n",
       "    </tr>\n",
       "    <tr>\n",
       "      <th>15</th>\n",
       "      <td>chr8:37454107:A/C</td>\n",
       "      <td>0.000000</td>\n",
       "      <td>0.000000</td>\n",
       "      <td>0.000000</td>\n",
       "    </tr>\n",
       "    <tr>\n",
       "      <th>16</th>\n",
       "      <td>chr2:66649968:A/G</td>\n",
       "      <td>0.185760</td>\n",
       "      <td>0.000054</td>\n",
       "      <td>0.000000</td>\n",
       "    </tr>\n",
       "    <tr>\n",
       "      <th>17</th>\n",
       "      <td>chr14:47812259:G/A</td>\n",
       "      <td>0.985547</td>\n",
       "      <td>0.996632</td>\n",
       "      <td>0.531250</td>\n",
       "    </tr>\n",
       "    <tr>\n",
       "      <th>18</th>\n",
       "      <td>chr14:77883003:C/T</td>\n",
       "      <td>0.000000</td>\n",
       "      <td>0.000000</td>\n",
       "      <td>0.000000</td>\n",
       "    </tr>\n",
       "    <tr>\n",
       "      <th>19</th>\n",
       "      <td>chr2:18546600:A/T</td>\n",
       "      <td>0.308820</td>\n",
       "      <td>0.000054</td>\n",
       "      <td>0.000000</td>\n",
       "    </tr>\n",
       "    <tr>\n",
       "      <th>20</th>\n",
       "      <td>chr15:41961654:C/T</td>\n",
       "      <td>0.431881</td>\n",
       "      <td>0.119764</td>\n",
       "      <td>0.076923</td>\n",
       "    </tr>\n",
       "    <tr>\n",
       "      <th>21</th>\n",
       "      <td>chr15:74178904:G/A</td>\n",
       "      <td>0.741764</td>\n",
       "      <td>0.996632</td>\n",
       "      <td>0.437500</td>\n",
       "    </tr>\n",
       "    <tr>\n",
       "      <th>22</th>\n",
       "      <td>chr4:114903326:A/T</td>\n",
       "      <td>0.010414</td>\n",
       "      <td>0.000054</td>\n",
       "      <td>0.000000</td>\n",
       "    </tr>\n",
       "    <tr>\n",
       "      <th>23</th>\n",
       "      <td>chr19:16060185:G/A</td>\n",
       "      <td>0.982997</td>\n",
       "      <td>0.996632</td>\n",
       "      <td>0.467532</td>\n",
       "    </tr>\n",
       "    <tr>\n",
       "      <th>24</th>\n",
       "      <td>chr19:50906786:G/T</td>\n",
       "      <td>0.377471</td>\n",
       "      <td>0.119764</td>\n",
       "      <td>0.197531</td>\n",
       "    </tr>\n",
       "    <tr>\n",
       "      <th>25</th>\n",
       "      <td>chr19:5893107:T/C</td>\n",
       "      <td>0.094155</td>\n",
       "      <td>0.000054</td>\n",
       "      <td>0.000000</td>\n",
       "    </tr>\n",
       "    <tr>\n",
       "      <th>26</th>\n",
       "      <td>chr1:240966260:A/G</td>\n",
       "      <td>0.566631</td>\n",
       "      <td>0.000054</td>\n",
       "      <td>0.000000</td>\n",
       "    </tr>\n",
       "    <tr>\n",
       "      <th>27</th>\n",
       "      <td>chr1:62374063:A/G</td>\n",
       "      <td>0.974495</td>\n",
       "      <td>0.996632</td>\n",
       "      <td>0.479452</td>\n",
       "    </tr>\n",
       "    <tr>\n",
       "      <th>28</th>\n",
       "      <td>chr10:23361627:C/T</td>\n",
       "      <td>0.000000</td>\n",
       "      <td>0.000000</td>\n",
       "      <td>0.000000</td>\n",
       "    </tr>\n",
       "    <tr>\n",
       "      <th>29</th>\n",
       "      <td>chr2:231113645:C/G</td>\n",
       "      <td>0.383634</td>\n",
       "      <td>0.000054</td>\n",
       "      <td>0.000000</td>\n",
       "    </tr>\n",
       "    <tr>\n",
       "      <th>30</th>\n",
       "      <td>chr7:1303967:G/A</td>\n",
       "      <td>0.084803</td>\n",
       "      <td>0.000054</td>\n",
       "      <td>0.000000</td>\n",
       "    </tr>\n",
       "    <tr>\n",
       "      <th>31</th>\n",
       "      <td>chr3:89445107:A/G</td>\n",
       "      <td>0.984910</td>\n",
       "      <td>0.996632</td>\n",
       "      <td>0.580153</td>\n",
       "    </tr>\n",
       "    <tr>\n",
       "      <th>32</th>\n",
       "      <td>chr15:33490102:T/C</td>\n",
       "      <td>0.210202</td>\n",
       "      <td>0.000054</td>\n",
       "      <td>0.000000</td>\n",
       "    </tr>\n",
       "    <tr>\n",
       "      <th>33</th>\n",
       "      <td>chr7:22539980:C/T</td>\n",
       "      <td>0.097131</td>\n",
       "      <td>0.000054</td>\n",
       "      <td>0.000000</td>\n",
       "    </tr>\n",
       "    <tr>\n",
       "      <th>34</th>\n",
       "      <td>chr8:126460325:T/C</td>\n",
       "      <td>0.329862</td>\n",
       "      <td>0.000054</td>\n",
       "      <td>0.000000</td>\n",
       "    </tr>\n",
       "    <tr>\n",
       "      <th>35</th>\n",
       "      <td>chr17:42110785:T/C</td>\n",
       "      <td>0.618704</td>\n",
       "      <td>0.000054</td>\n",
       "      <td>0.000000</td>\n",
       "    </tr>\n",
       "    <tr>\n",
       "      <th>36</th>\n",
       "      <td>chr6:27114484:G/A</td>\n",
       "      <td>0.971307</td>\n",
       "      <td>0.996632</td>\n",
       "      <td>0.417582</td>\n",
       "    </tr>\n",
       "    <tr>\n",
       "      <th>37</th>\n",
       "      <td>chr6:32032769:A/G</td>\n",
       "      <td>0.429118</td>\n",
       "      <td>0.996632</td>\n",
       "      <td>0.428571</td>\n",
       "    </tr>\n",
       "    <tr>\n",
       "      <th>38</th>\n",
       "      <td>chr7:124510964:C/G</td>\n",
       "      <td>0.973645</td>\n",
       "      <td>0.996632</td>\n",
       "      <td>0.500000</td>\n",
       "    </tr>\n",
       "    <tr>\n",
       "      <th>39</th>\n",
       "      <td>chr7:30963119:T/A</td>\n",
       "      <td>0.954091</td>\n",
       "      <td>0.996632</td>\n",
       "      <td>0.449541</td>\n",
       "    </tr>\n",
       "    <tr>\n",
       "      <th>40</th>\n",
       "      <td>chr7:89861712:A/G</td>\n",
       "      <td>0.962168</td>\n",
       "      <td>0.996632</td>\n",
       "      <td>0.524590</td>\n",
       "    </tr>\n",
       "    <tr>\n",
       "      <th>41</th>\n",
       "      <td>chr7:92764576:T/C</td>\n",
       "      <td>0.165781</td>\n",
       "      <td>0.000054</td>\n",
       "      <td>0.000000</td>\n",
       "    </tr>\n",
       "    <tr>\n",
       "      <th>42</th>\n",
       "      <td>chr8:107781784:G/A</td>\n",
       "      <td>0.747290</td>\n",
       "      <td>0.996632</td>\n",
       "      <td>0.344538</td>\n",
       "    </tr>\n",
       "    <tr>\n",
       "      <th>43</th>\n",
       "      <td>chr12:25398284:C/T</td>\n",
       "      <td>0.585972</td>\n",
       "      <td>0.119764</td>\n",
       "      <td>0.062112</td>\n",
       "    </tr>\n",
       "    <tr>\n",
       "      <th>44</th>\n",
       "      <td>chr15:41961654:C/T</td>\n",
       "      <td>0.431881</td>\n",
       "      <td>0.119764</td>\n",
       "      <td>0.076923</td>\n",
       "    </tr>\n",
       "    <tr>\n",
       "      <th>45</th>\n",
       "      <td>chr15:42041041:C/T</td>\n",
       "      <td>0.561318</td>\n",
       "      <td>0.119764</td>\n",
       "      <td>0.125874</td>\n",
       "    </tr>\n",
       "    <tr>\n",
       "      <th>46</th>\n",
       "      <td>chr9:139390648:CAG/C</td>\n",
       "      <td>0.377896</td>\n",
       "      <td>0.996632</td>\n",
       "      <td>0.531915</td>\n",
       "    </tr>\n",
       "  </tbody>\n",
       "</table>\n",
       "</div>"
      ],
      "text/plain": [
       "                      id  CCF_Tapestri   CCF_WGS   VAF_WGS\n",
       "0     chr1:149035493:G/T      0.186610  0.119764  0.061856\n",
       "1        chr6:353034:A/T      0.758767  0.119764  0.084444\n",
       "2      chr4:65299766:A/C      0.000000  0.000000  0.000000\n",
       "3     chr7:142475930:A/G      0.195962  0.119764  0.047120\n",
       "4     chr7:142475932:C/G      0.000000  0.000000  0.000000\n",
       "5     chr9:141069114:G/A      0.041233  0.119764  0.061905\n",
       "6       chr10:696064:G/A      0.209777  0.119764  0.045113\n",
       "7     chr1:148002257:C/T      0.000000  0.000000  0.000000\n",
       "8      chr1:59096386:C/G      0.000000  0.000000  0.000000\n",
       "9      chr11:1017381:G/C      0.882040  0.119764  0.106762\n",
       "10    chr2:132794309:C/T      0.000000  0.000000  0.000000\n",
       "11     chr9:33613226:A/T      0.365994  0.119764  0.073171\n",
       "12     chr4:33015791:G/A      0.325824  0.119764  0.098361\n",
       "13     chr4:23125020:G/C      0.393411  0.000054  0.000000\n",
       "14      chr4:8009164:G/A      0.141339  0.000054  0.000000\n",
       "15     chr8:37454107:A/C      0.000000  0.000000  0.000000\n",
       "16     chr2:66649968:A/G      0.185760  0.000054  0.000000\n",
       "17    chr14:47812259:G/A      0.985547  0.996632  0.531250\n",
       "18    chr14:77883003:C/T      0.000000  0.000000  0.000000\n",
       "19     chr2:18546600:A/T      0.308820  0.000054  0.000000\n",
       "20    chr15:41961654:C/T      0.431881  0.119764  0.076923\n",
       "21    chr15:74178904:G/A      0.741764  0.996632  0.437500\n",
       "22    chr4:114903326:A/T      0.010414  0.000054  0.000000\n",
       "23    chr19:16060185:G/A      0.982997  0.996632  0.467532\n",
       "24    chr19:50906786:G/T      0.377471  0.119764  0.197531\n",
       "25     chr19:5893107:T/C      0.094155  0.000054  0.000000\n",
       "26    chr1:240966260:A/G      0.566631  0.000054  0.000000\n",
       "27     chr1:62374063:A/G      0.974495  0.996632  0.479452\n",
       "28    chr10:23361627:C/T      0.000000  0.000000  0.000000\n",
       "29    chr2:231113645:C/G      0.383634  0.000054  0.000000\n",
       "30      chr7:1303967:G/A      0.084803  0.000054  0.000000\n",
       "31     chr3:89445107:A/G      0.984910  0.996632  0.580153\n",
       "32    chr15:33490102:T/C      0.210202  0.000054  0.000000\n",
       "33     chr7:22539980:C/T      0.097131  0.000054  0.000000\n",
       "34    chr8:126460325:T/C      0.329862  0.000054  0.000000\n",
       "35    chr17:42110785:T/C      0.618704  0.000054  0.000000\n",
       "36     chr6:27114484:G/A      0.971307  0.996632  0.417582\n",
       "37     chr6:32032769:A/G      0.429118  0.996632  0.428571\n",
       "38    chr7:124510964:C/G      0.973645  0.996632  0.500000\n",
       "39     chr7:30963119:T/A      0.954091  0.996632  0.449541\n",
       "40     chr7:89861712:A/G      0.962168  0.996632  0.524590\n",
       "41     chr7:92764576:T/C      0.165781  0.000054  0.000000\n",
       "42    chr8:107781784:G/A      0.747290  0.996632  0.344538\n",
       "43    chr12:25398284:C/T      0.585972  0.119764  0.062112\n",
       "44    chr15:41961654:C/T      0.431881  0.119764  0.076923\n",
       "45    chr15:42041041:C/T      0.561318  0.119764  0.125874\n",
       "46  chr9:139390648:CAG/C      0.377896  0.996632  0.531915"
      ]
     },
     "execution_count": 32,
     "metadata": {},
     "output_type": "execute_result"
    }
   ],
   "source": [
    "wgs_vs_tapestri"
   ]
  },
  {
   "cell_type": "code",
   "execution_count": null,
   "id": "059ed3d1-ae3f-43e0-9f0e-6d95c66b75b7",
   "metadata": {},
   "outputs": [],
   "source": []
  },
  {
   "cell_type": "code",
   "execution_count": null,
   "id": "5d0a0971-6a73-4c09-bbb1-03aad6d498fb",
   "metadata": {},
   "outputs": [],
   "source": []
  },
  {
   "cell_type": "markdown",
   "id": "87bac541-c0f9-4f9b-bcf1-872fe2bd30ec",
   "metadata": {
    "jp-MarkdownHeadingCollapsed": true
   },
   "source": [
    "## DNA analysis"
   ]
  },
  {
   "cell_type": "code",
   "execution_count": null,
   "id": "90f612f3-1cc9-4f0e-bbda-ecf2a6d7582f",
   "metadata": {
    "scrolled": true
   },
   "outputs": [],
   "source": [
    "# Run the variant table workflow to select variants and begin clone identification\n",
    "wfv = ms.workflows.VariantSubcloneTable(sample)\n",
    "wfv.run()\n",
    "# The width can be adjusted if needed for long variant names\n",
    "#wfv.run(width=3000)"
   ]
  },
  {
   "cell_type": "code",
   "execution_count": null,
   "id": "13c55cbd-6641-4a8d-a9e5-1c87314d9c55",
   "metadata": {},
   "outputs": [],
   "source": [
    "variants = wfv.selected_variants\n",
    "variants"
   ]
  },
  {
   "cell_type": "markdown",
   "id": "ebc9e09a-f546-4b7d-91a2-92c0b8fd1982",
   "metadata": {
    "jp-MarkdownHeadingCollapsed": true
   },
   "source": [
    "## CNA analysis"
   ]
  },
  {
   "cell_type": "code",
   "execution_count": null,
   "id": "39e6023f-2263-4b6d-a147-9a793ea723af",
   "metadata": {},
   "outputs": [],
   "source": [
    "sample.cnv.get_gene_names()"
   ]
  },
  {
   "cell_type": "code",
   "execution_count": null,
   "id": "dcc85823-4fb5-4658-a95c-4327d1abb441",
   "metadata": {},
   "outputs": [],
   "source": [
    "# CNV workflow to filter, normalize and estimate ploidy\n",
    "wfc = ms.workflows.CopyNumber(sample)\n",
    "wfc.run()"
   ]
  }
 ],
 "metadata": {
  "kernelspec": {
   "display_name": "Python 3 (ipykernel)",
   "language": "python",
   "name": "python3"
  },
  "language_info": {
   "codemirror_mode": {
    "name": "ipython",
    "version": 3
   },
   "file_extension": ".py",
   "mimetype": "text/x-python",
   "name": "python",
   "nbconvert_exporter": "python",
   "pygments_lexer": "ipython3",
   "version": "3.9.20"
  }
 },
 "nbformat": 4,
 "nbformat_minor": 5
}
